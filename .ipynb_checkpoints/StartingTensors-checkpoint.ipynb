{
 "cells": [
  {
   "cell_type": "code",
   "execution_count": 1,
   "id": "fb0bd499-f379-4f74-9ca2-c4c8dad17567",
   "metadata": {},
   "outputs": [],
   "source": [
    "import tensorflow as tf"
   ]
  },
  {
   "cell_type": "markdown",
   "id": "1cc74fe1-ef3c-4271-abbb-3cc81046059f",
   "metadata": {},
   "source": [
    "### There are different ways to create tensors in TensorFlow.\n",
    "\n",
    "We will see three of them:\n",
    "\n",
    "1. tf.constant\n",
    "2. tf.Variable\n",
    "3. tf.range"
   ]
  },
  {
   "cell_type": "code",
   "execution_count": 2,
   "id": "472e697c-3098-4d1e-9b30-9ddfe72b9095",
   "metadata": {},
   "outputs": [
    {
     "data": {
      "text/plain": [
       "<tf.Tensor: shape=(6,), dtype=int32, numpy=array([1, 2, 3, 4, 5, 6])>"
      ]
     },
     "execution_count": 2,
     "metadata": {},
     "output_type": "execute_result"
    }
   ],
   "source": [
    "# tf.constant\n",
    "a_constant = tf.constant([1, 2, 3, 4, 5, 6])\n",
    "a_constant"
   ]
  },
  {
   "cell_type": "code",
   "execution_count": 3,
   "id": "fc53d182-b7e8-427e-9b61-dcebbcda25cd",
   "metadata": {},
   "outputs": [
    {
     "data": {
      "text/plain": [
       "<tf.Variable 'Variable:0' shape=(6,) dtype=int32, numpy=array([1, 2, 3, 4, 5, 6])>"
      ]
     },
     "execution_count": 3,
     "metadata": {},
     "output_type": "execute_result"
    }
   ],
   "source": [
    "# tf.Variable\n",
    "a_variable = tf.Variable([1, 2, 3, 4, 5, 6])\n",
    "a_variable"
   ]
  },
  {
   "cell_type": "markdown",
   "id": "26659c9c-cafc-44d2-b455-311c14cff222",
   "metadata": {},
   "source": [
    "even though (constant & Variable) have the same input and both are tensors, they are different.\n",
    "\n",
    "+ tf.constant: cannot be cahnged, is inmutable.\n",
    "+ tf.Variable: it can be reassigned in te future, is mutable."
   ]
  },
  {
   "cell_type": "code",
   "execution_count": 4,
   "id": "c4807fa1-e27b-498d-8bea-fff160375dbb",
   "metadata": {},
   "outputs": [
    {
     "data": {
      "text/plain": [
       "<tf.Tensor: shape=(6,), dtype=int32, numpy=array([1, 2, 3, 4, 5, 6])>"
      ]
     },
     "execution_count": 4,
     "metadata": {},
     "output_type": "execute_result"
    }
   ],
   "source": [
    "# tf.range\n",
    "a_range = tf.range(start=1, limit=7)\n",
    "a_range"
   ]
  },
  {
   "cell_type": "markdown",
   "id": "b2d5906e-036f-4906-be7f-ee778db202cb",
   "metadata": {},
   "source": [
    "If we see the outputs of the three different ways to create a tensor we can conclude that the output of *a_constant* and *a_range* is exactly the same and is slightly different to *a_variable*, but none of these are the same, the difference is clearer when we work with **tensor operations**. We will start with **tensor rank**.\n",
    "\n",
    "# Tensor Rank\n",
    "\n",
    "The rank of a tensor identifies the number of dimentions of that tensor.\n",
    "\n",
    "+ Scalar: it's a quantity that has magnitude but no direction.\n",
    "+ Vector: it's a quantity that has magnitude and direction.\n",
    "+ Matrix: it's an array of numbers arranged in rows and columns.\n",
    "+ Tensor: $$\\{x \\mid x \\in \\mathbb{Z}, 3 \\leq x\\}$$"
   ]
  },
  {
   "cell_type": "code",
   "execution_count": 5,
   "id": "0368fb2b-f002-4f35-a8a7-60586c851587",
   "metadata": {},
   "outputs": [
    {
     "data": {
      "text/plain": [
       "<tf.Tensor: shape=(), dtype=int32, numpy=1>"
      ]
     },
     "execution_count": 5,
     "metadata": {},
     "output_type": "execute_result"
    }
   ],
   "source": [
    "# scalar\n",
    "a = tf.constant(1)\n",
    "a"
   ]
  },
  {
   "cell_type": "code",
   "execution_count": 6,
   "id": "247c4dce-8b97-4711-843b-3dec167a6e26",
   "metadata": {},
   "outputs": [
    {
     "data": {
      "text/plain": [
       "<tf.Tensor: shape=(4,), dtype=float32, numpy=array([1.2, 2.3, 3.4, 4.5], dtype=float32)>"
      ]
     },
     "execution_count": 6,
     "metadata": {},
     "output_type": "execute_result"
    }
   ],
   "source": [
    "# vector\n",
    "b = tf.constant([1.2, 2.3, 3.4, 4.5])\n",
    "b"
   ]
  },
  {
   "cell_type": "code",
   "execution_count": 7,
   "id": "874dfed5-6a78-4824-8187-0aa0daef3846",
   "metadata": {},
   "outputs": [
    {
     "data": {
      "text/plain": [
       "<tf.Tensor: shape=(2, 2), dtype=int32, numpy=\n",
       "array([[1, 2],\n",
       "       [3, 4]])>"
      ]
     },
     "execution_count": 7,
     "metadata": {},
     "output_type": "execute_result"
    }
   ],
   "source": [
    "# matrix\n",
    "c = tf.constant([[1, 2], [3, 4]])\n",
    "c"
   ]
  },
  {
   "cell_type": "code",
   "execution_count": 8,
   "id": "ce231ca6-f14f-4e97-8f2a-323efa834024",
   "metadata": {},
   "outputs": [
    {
     "data": {
      "text/plain": [
       "<tf.Tensor: shape=(2, 3, 2), dtype=int32, numpy=\n",
       "array([[[23, 45],\n",
       "        [ 9, 11],\n",
       "        [47, 12]],\n",
       "\n",
       "       [[90,  1],\n",
       "        [88,  0],\n",
       "        [ 2, 99]]])>"
      ]
     },
     "execution_count": 8,
     "metadata": {},
     "output_type": "execute_result"
    }
   ],
   "source": [
    "# 3-dimentional tensor\n",
    "d = tf.constant([[[23, 45], [9, 11], [47, 12]], [[90, 1], [88, 0], [2, 99]]])\n",
    "d"
   ]
  },
  {
   "cell_type": "markdown",
   "id": "c9787323-592e-4655-b8fb-c2829f438fa5",
   "metadata": {},
   "source": [
    "# Properties of tensors\n",
    "\n",
    "Lets us explore how to interpret tensor outputs in detail. We will learn how to identify the key properties of a tensor, from its printed representation.\n",
    "\n",
    "When we print a tensor it displays the variable name, shape and data type.\n",
    "\n",
    "Thus far, we utilized default arguments when creating tensors. Lets us make some adjustments to see how this changes the output."
   ]
  },
  {
   "cell_type": "code",
   "execution_count": 9,
   "id": "2c43fe7d-35d7-476a-9aec-43ac742cdda0",
   "metadata": {},
   "outputs": [
    {
     "data": {
      "text/plain": [
       "<tf.Variable 'TDC:0' shape=() dtype=float16, numpy=1.1>"
      ]
     },
     "execution_count": 9,
     "metadata": {},
     "output_type": "execute_result"
    }
   ],
   "source": [
    "# scalar\n",
    "a_scalar = tf.Variable(1.1, name='TDC', dtype='float16')\n",
    "a_scalar"
   ]
  },
  {
   "cell_type": "markdown",
   "id": "56c8df7c-ce20-4a6f-99dd-3c2649fb1c09",
   "metadata": {},
   "source": [
    "By leveraging TensorFlow functions, we can get more information about a tensor. Here we are going to use the **tf.rank()** function to inspect the rank of a tensor."
   ]
  },
  {
   "cell_type": "code",
   "execution_count": 10,
   "id": "a16dddb4-149a-4c62-9e60-5e7ef920b8de",
   "metadata": {},
   "outputs": [
    {
     "name": "stdout",
     "output_type": "stream",
     "text": [
      "The rank of the scalar is: 0\n",
      "The rank of the vector is: 1\n",
      "The rank of the matrix is: 2\n"
     ]
    }
   ],
   "source": [
    "# scalar\n",
    "a = tf.constant(1.1)\n",
    "\n",
    "# vector\n",
    "b = tf.constant([1.2, 2.3, 3.4, 4.5])\n",
    "\n",
    "# matrix\n",
    "c = tf.constant([[25, 11], [9, 0]])\n",
    "\n",
    "# Generating tesor rank\n",
    "print(f'The rank of the scalar is: {tf.rank(a).numpy()}')\n",
    "print(f'The rank of the vector is: {tf.rank(b)}')\n",
    "print(f'The rank of the matrix is: {tf.rank(c)}')"
   ]
  },
  {
   "cell_type": "code",
   "execution_count": 11,
   "id": "6d1689b7-7665-4f3c-8927-97d617ea861a",
   "metadata": {},
   "outputs": [
    {
     "name": "stdout",
     "output_type": "stream",
     "text": [
      "The dimention of the scalar is : 0\n",
      "The dimention of the vector is: 1\n",
      "The dimention of the matrix is: 2\n"
     ]
    }
   ],
   "source": [
    "# Another way to get the rank of a tensor\n",
    "print(f'The dimention of the scalar is : {a.ndim}')\n",
    "print(f'The dimention of the vector is: {b.ndim}')\n",
    "print(f'The dimention of the matrix is: {c.ndim}')"
   ]
  },
  {
   "cell_type": "markdown",
   "id": "be514233-ef6a-49a2-9224-476e0baca717",
   "metadata": {},
   "source": [
    "If we want to get the data type of a tensor we use the **dtype** argument."
   ]
  },
  {
   "cell_type": "code",
   "execution_count": 12,
   "id": "02b04b2e-f9c6-4625-a27d-b773309ca789",
   "metadata": {},
   "outputs": [
    {
     "name": "stdout",
     "output_type": "stream",
     "text": [
      "The data type of the scalar is: <dtype: 'float32'>\n",
      "The data type of the vector is: <dtype: 'float32'>\n",
      "The data type of the matrix is: <dtype: 'int32'>\n"
     ]
    }
   ],
   "source": [
    "print(f'The data type of the scalar is: {a.dtype}')\n",
    "print(f'The data type of the vector is: {b.dtype}')\n",
    "print(f'The data type of the matrix is: {c.dtype}')"
   ]
  },
  {
   "cell_type": "markdown",
   "id": "2234e295-f052-4607-bfdf-aba28395912b",
   "metadata": {},
   "source": [
    "Now, we will see the shape of the tensors.\n",
    "\n",
    "+ The scalar has no shape value.\n",
    "+ The vector has a shape value of one unit.\n",
    "+ The matrix has a shape value of two units."
   ]
  },
  {
   "cell_type": "code",
   "execution_count": 13,
   "id": "a28544f1-3cb2-4a5e-aa44-2be63155b66e",
   "metadata": {},
   "outputs": [
    {
     "name": "stdout",
     "output_type": "stream",
     "text": [
      "The shape of the scalar is: ()\n",
      "The shape of the vector is: (4,)\n",
      "The shape of the matrix is: (2, 2)\n"
     ]
    }
   ],
   "source": [
    "print(f'The shape of the scalar is: {a.shape}')\n",
    "print(f'The shape of the vector is: {b.shape}')\n",
    "print(f'The shape of the matrix is: {c.shape}')"
   ]
  },
  {
   "cell_type": "markdown",
   "id": "a8a8de16-6494-4d92-a316-f2e040db4f50",
   "metadata": {},
   "source": [
    "Now we will compute the number of elements in each tensor."
   ]
  },
  {
   "cell_type": "code",
   "execution_count": 14,
   "id": "e3078b82-5f3b-43ed-9a50-a73fd07c14f7",
   "metadata": {},
   "outputs": [
    {
     "name": "stdout",
     "output_type": "stream",
     "text": [
      "The Size of the scalar is: 1\n",
      "The Size of the vector is: 4\n",
      "The Size of the matrix is: 4\n"
     ]
    }
   ],
   "source": [
    "# Generating number of elements in a tensor\n",
    "print(f'The Size of the scalar is: {tf.size(a).numpy()}')\n",
    "print(f'The Size of the vector is: {tf.size(b)}')\n",
    "print(f'The Size of the matrix is: {tf.size(c)}')"
   ]
  },
  {
   "cell_type": "markdown",
   "id": "199a6499-5da5-44e5-bb42-bac30130a5e3",
   "metadata": {},
   "source": [
    "### Basic tensor operations\n",
    "\n",
    "One big hurdle with learning TensorFlow is understanding what tensor operations are and why we need them. Tensors are fundamental data structures in TensorFlow and they van be used for **store**, **manipulate** and **analyze** data in ML models.\n",
    "\n",
    "### Changing data types"
   ]
  },
  {
   "cell_type": "code",
   "execution_count": null,
   "id": "7492c356-537b-4e8d-9cec-894809373bd7",
   "metadata": {},
   "outputs": [],
   "source": []
  }
 ],
 "metadata": {
  "kernelspec": {
   "display_name": "Python 3 (ipykernel)",
   "language": "python",
   "name": "python3"
  },
  "language_info": {
   "codemirror_mode": {
    "name": "ipython",
    "version": 3
   },
   "file_extension": ".py",
   "mimetype": "text/x-python",
   "name": "python",
   "nbconvert_exporter": "python",
   "pygments_lexer": "ipython3",
   "version": "3.9.12"
  }
 },
 "nbformat": 4,
 "nbformat_minor": 5
}
