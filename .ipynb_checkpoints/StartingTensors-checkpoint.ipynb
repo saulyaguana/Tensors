{
 "cells": [
  {
   "cell_type": "code",
   "execution_count": 23,
   "id": "fb0bd499-f379-4f74-9ca2-c4c8dad17567",
   "metadata": {},
   "outputs": [],
   "source": [
    "import random\n",
    "\n",
    "import tensorflow as tf"
   ]
  },
  {
   "cell_type": "markdown",
   "id": "1cc74fe1-ef3c-4271-abbb-3cc81046059f",
   "metadata": {},
   "source": [
    "### There are different ways to create tensors in TensorFlow.\n",
    "\n",
    "We will see three of them:\n",
    "\n",
    "1. tf.constant\n",
    "2. tf.Variable\n",
    "3. tf.range"
   ]
  },
  {
   "cell_type": "code",
   "execution_count": 2,
   "id": "472e697c-3098-4d1e-9b30-9ddfe72b9095",
   "metadata": {},
   "outputs": [
    {
     "data": {
      "text/plain": [
       "<tf.Tensor: shape=(6,), dtype=int32, numpy=array([1, 2, 3, 4, 5, 6])>"
      ]
     },
     "execution_count": 2,
     "metadata": {},
     "output_type": "execute_result"
    }
   ],
   "source": [
    "# tf.constant\n",
    "a_constant = tf.constant([1, 2, 3, 4, 5, 6])\n",
    "a_constant"
   ]
  },
  {
   "cell_type": "code",
   "execution_count": 3,
   "id": "fc53d182-b7e8-427e-9b61-dcebbcda25cd",
   "metadata": {},
   "outputs": [
    {
     "data": {
      "text/plain": [
       "<tf.Variable 'Variable:0' shape=(6,) dtype=int32, numpy=array([1, 2, 3, 4, 5, 6])>"
      ]
     },
     "execution_count": 3,
     "metadata": {},
     "output_type": "execute_result"
    }
   ],
   "source": [
    "# tf.Variable\n",
    "a_variable = tf.Variable([1, 2, 3, 4, 5, 6])\n",
    "a_variable"
   ]
  },
  {
   "cell_type": "markdown",
   "id": "26659c9c-cafc-44d2-b455-311c14cff222",
   "metadata": {},
   "source": [
    "even though (constant & Variable) have the same input and both are tensors, they are different.\n",
    "\n",
    "+ tf.constant: cannot be cahnged, is inmutable.\n",
    "+ tf.Variable: it can be reassigned in te future, is mutable."
   ]
  },
  {
   "cell_type": "code",
   "execution_count": 4,
   "id": "c4807fa1-e27b-498d-8bea-fff160375dbb",
   "metadata": {},
   "outputs": [
    {
     "data": {
      "text/plain": [
       "<tf.Tensor: shape=(6,), dtype=int32, numpy=array([1, 2, 3, 4, 5, 6])>"
      ]
     },
     "execution_count": 4,
     "metadata": {},
     "output_type": "execute_result"
    }
   ],
   "source": [
    "# tf.range\n",
    "a_range = tf.range(start=1, limit=7)\n",
    "a_range"
   ]
  },
  {
   "cell_type": "markdown",
   "id": "b2d5906e-036f-4906-be7f-ee778db202cb",
   "metadata": {},
   "source": [
    "If we see the outputs of the three different ways to create a tensor we can conclude that the output of *a_constant* and *a_range* is exactly the same and is slightly different to *a_variable*, but none of these are the same, the difference is clearer when we work with **tensor operations**. We will start with **tensor rank**.\n",
    "\n",
    "# Tensor Rank\n",
    "\n",
    "The rank of a tensor identifies the number of dimentions of that tensor.\n",
    "\n",
    "+ Scalar: it's a quantity that has magnitude but no direction.\n",
    "+ Vector: it's a quantity that has magnitude and direction.\n",
    "+ Matrix: it's an array of numbers arranged in rows and columns.\n",
    "+ Tensor: $$\\{x \\mid x \\in \\mathbb{Z}, 3 \\leq x\\}$$"
   ]
  },
  {
   "cell_type": "code",
   "execution_count": 5,
   "id": "0368fb2b-f002-4f35-a8a7-60586c851587",
   "metadata": {},
   "outputs": [
    {
     "data": {
      "text/plain": [
       "<tf.Tensor: shape=(), dtype=int32, numpy=1>"
      ]
     },
     "execution_count": 5,
     "metadata": {},
     "output_type": "execute_result"
    }
   ],
   "source": [
    "# scalar\n",
    "a = tf.constant(1)\n",
    "a"
   ]
  },
  {
   "cell_type": "code",
   "execution_count": 6,
   "id": "247c4dce-8b97-4711-843b-3dec167a6e26",
   "metadata": {},
   "outputs": [
    {
     "data": {
      "text/plain": [
       "<tf.Tensor: shape=(4,), dtype=float32, numpy=array([1.2, 2.3, 3.4, 4.5], dtype=float32)>"
      ]
     },
     "execution_count": 6,
     "metadata": {},
     "output_type": "execute_result"
    }
   ],
   "source": [
    "# vector\n",
    "b = tf.constant([1.2, 2.3, 3.4, 4.5])\n",
    "b"
   ]
  },
  {
   "cell_type": "code",
   "execution_count": 7,
   "id": "874dfed5-6a78-4824-8187-0aa0daef3846",
   "metadata": {},
   "outputs": [
    {
     "data": {
      "text/plain": [
       "<tf.Tensor: shape=(2, 2), dtype=int32, numpy=\n",
       "array([[1, 2],\n",
       "       [3, 4]])>"
      ]
     },
     "execution_count": 7,
     "metadata": {},
     "output_type": "execute_result"
    }
   ],
   "source": [
    "# matrix\n",
    "c = tf.constant([[1, 2], [3, 4]])\n",
    "c"
   ]
  },
  {
   "cell_type": "code",
   "execution_count": 8,
   "id": "ce231ca6-f14f-4e97-8f2a-323efa834024",
   "metadata": {},
   "outputs": [
    {
     "data": {
      "text/plain": [
       "<tf.Tensor: shape=(2, 3, 2), dtype=int32, numpy=\n",
       "array([[[23, 45],\n",
       "        [ 9, 11],\n",
       "        [47, 12]],\n",
       "\n",
       "       [[90,  1],\n",
       "        [88,  0],\n",
       "        [ 2, 99]]])>"
      ]
     },
     "execution_count": 8,
     "metadata": {},
     "output_type": "execute_result"
    }
   ],
   "source": [
    "# 3-dimentional tensor\n",
    "d = tf.constant([[[23, 45], [9, 11], [47, 12]], [[90, 1], [88, 0], [2, 99]]])\n",
    "d"
   ]
  },
  {
   "cell_type": "markdown",
   "id": "c9787323-592e-4655-b8fb-c2829f438fa5",
   "metadata": {},
   "source": [
    "# Properties of tensors\n",
    "\n",
    "Lets us explore how to interpret tensor outputs in detail. We will learn how to identify the key properties of a tensor, from its printed representation.\n",
    "\n",
    "When we print a tensor it displays the variable name, shape and data type.\n",
    "\n",
    "Thus far, we utilized default arguments when creating tensors. Lets us make some adjustments to see how this changes the output."
   ]
  },
  {
   "cell_type": "code",
   "execution_count": 9,
   "id": "2c43fe7d-35d7-476a-9aec-43ac742cdda0",
   "metadata": {},
   "outputs": [
    {
     "data": {
      "text/plain": [
       "<tf.Variable 'TDC:0' shape=() dtype=float16, numpy=1.1>"
      ]
     },
     "execution_count": 9,
     "metadata": {},
     "output_type": "execute_result"
    }
   ],
   "source": [
    "# scalar\n",
    "a_scalar = tf.Variable(1.1, name='TDC', dtype='float16')\n",
    "a_scalar"
   ]
  },
  {
   "cell_type": "markdown",
   "id": "56c8df7c-ce20-4a6f-99dd-3c2649fb1c09",
   "metadata": {},
   "source": [
    "By leveraging TensorFlow functions, we can get more information about a tensor. Here we are going to use the **tf.rank()** function to inspect the rank of a tensor."
   ]
  },
  {
   "cell_type": "code",
   "execution_count": 10,
   "id": "a16dddb4-149a-4c62-9e60-5e7ef920b8de",
   "metadata": {},
   "outputs": [
    {
     "name": "stdout",
     "output_type": "stream",
     "text": [
      "The rank of the scalar is: 0\n",
      "The rank of the vector is: 1\n",
      "The rank of the matrix is: 2\n"
     ]
    }
   ],
   "source": [
    "# scalar\n",
    "a = tf.constant(1.1)\n",
    "\n",
    "# vector\n",
    "b = tf.constant([1.2, 2.3, 3.4, 4.5])\n",
    "\n",
    "# matrix\n",
    "c = tf.constant([[25, 11], [9, 0]])\n",
    "\n",
    "# Generating tesor rank\n",
    "print(f'The rank of the scalar is: {tf.rank(a).numpy()}')\n",
    "print(f'The rank of the vector is: {tf.rank(b)}')\n",
    "print(f'The rank of the matrix is: {tf.rank(c)}')"
   ]
  },
  {
   "cell_type": "code",
   "execution_count": 11,
   "id": "6d1689b7-7665-4f3c-8927-97d617ea861a",
   "metadata": {},
   "outputs": [
    {
     "name": "stdout",
     "output_type": "stream",
     "text": [
      "The dimention of the scalar is : 0\n",
      "The dimention of the vector is: 1\n",
      "The dimention of the matrix is: 2\n"
     ]
    }
   ],
   "source": [
    "# Another way to get the rank of a tensor\n",
    "print(f'The dimention of the scalar is : {a.ndim}')\n",
    "print(f'The dimention of the vector is: {b.ndim}')\n",
    "print(f'The dimention of the matrix is: {c.ndim}')"
   ]
  },
  {
   "cell_type": "markdown",
   "id": "be514233-ef6a-49a2-9224-476e0baca717",
   "metadata": {},
   "source": [
    "If we want to get the data type of a tensor we use the **dtype** argument."
   ]
  },
  {
   "cell_type": "code",
   "execution_count": 12,
   "id": "02b04b2e-f9c6-4625-a27d-b773309ca789",
   "metadata": {},
   "outputs": [
    {
     "name": "stdout",
     "output_type": "stream",
     "text": [
      "The data type of the scalar is: <dtype: 'float32'>\n",
      "The data type of the vector is: <dtype: 'float32'>\n",
      "The data type of the matrix is: <dtype: 'int32'>\n"
     ]
    }
   ],
   "source": [
    "print(f'The data type of the scalar is: {a.dtype}')\n",
    "print(f'The data type of the vector is: {b.dtype}')\n",
    "print(f'The data type of the matrix is: {c.dtype}')"
   ]
  },
  {
   "cell_type": "markdown",
   "id": "2234e295-f052-4607-bfdf-aba28395912b",
   "metadata": {},
   "source": [
    "Now, we will see the shape of the tensors.\n",
    "\n",
    "+ The scalar has no shape value.\n",
    "+ The vector has a shape value of one unit.\n",
    "+ The matrix has a shape value of two units."
   ]
  },
  {
   "cell_type": "code",
   "execution_count": 13,
   "id": "a28544f1-3cb2-4a5e-aa44-2be63155b66e",
   "metadata": {},
   "outputs": [
    {
     "name": "stdout",
     "output_type": "stream",
     "text": [
      "The shape of the scalar is: ()\n",
      "The shape of the vector is: (4,)\n",
      "The shape of the matrix is: (2, 2)\n"
     ]
    }
   ],
   "source": [
    "print(f'The shape of the scalar is: {a.shape}')\n",
    "print(f'The shape of the vector is: {b.shape}')\n",
    "print(f'The shape of the matrix is: {c.shape}')"
   ]
  },
  {
   "cell_type": "markdown",
   "id": "a8a8de16-6494-4d92-a316-f2e040db4f50",
   "metadata": {},
   "source": [
    "Now we will compute the number of elements in each tensor."
   ]
  },
  {
   "cell_type": "code",
   "execution_count": 14,
   "id": "e3078b82-5f3b-43ed-9a50-a73fd07c14f7",
   "metadata": {},
   "outputs": [
    {
     "name": "stdout",
     "output_type": "stream",
     "text": [
      "The Size of the scalar is: 1\n",
      "The Size of the vector is: 4\n",
      "The Size of the matrix is: 4\n"
     ]
    }
   ],
   "source": [
    "# Generating number of elements in a tensor\n",
    "print(f'The Size of the scalar is: {tf.size(a).numpy()}')\n",
    "print(f'The Size of the vector is: {tf.size(b)}')\n",
    "print(f'The Size of the matrix is: {tf.size(c)}')"
   ]
  },
  {
   "cell_type": "markdown",
   "id": "199a6499-5da5-44e5-bb42-bac30130a5e3",
   "metadata": {},
   "source": [
    "### Basic tensor operations\n",
    "\n",
    "One big hurdle with learning TensorFlow is understanding what tensor operations are and why we need them. Tensors are fundamental data structures in TensorFlow and they van be used for **store**, **manipulate** and **analyze** data in ML models.\n",
    "\n",
    "### Changing data types"
   ]
  },
  {
   "cell_type": "code",
   "execution_count": 15,
   "id": "7492c356-537b-4e8d-9cec-894809373bd7",
   "metadata": {},
   "outputs": [
    {
     "data": {
      "text/plain": [
       "<tf.Tensor: shape=(5,), dtype=int32, numpy=array([1, 2, 3, 4, 5])>"
      ]
     },
     "execution_count": 15,
     "metadata": {},
     "output_type": "execute_result"
    }
   ],
   "source": [
    "a = tf.constant([1, 2, 3, 4, 5])\n",
    "a"
   ]
  },
  {
   "cell_type": "code",
   "execution_count": 16,
   "id": "6e9ee6b8-d63c-4395-a39c-131cde854edc",
   "metadata": {},
   "outputs": [
    {
     "data": {
      "text/plain": [
       "<tf.Tensor: shape=(5,), dtype=float32, numpy=array([1., 2., 3., 4., 5.], dtype=float32)>"
      ]
     },
     "execution_count": 16,
     "metadata": {},
     "output_type": "execute_result"
    }
   ],
   "source": [
    "a = tf.cast(a, dtype=tf.float32)\n",
    "a"
   ]
  },
  {
   "cell_type": "markdown",
   "id": "56b8091e-46dd-4ece-8afe-1d4b7379593f",
   "metadata": {},
   "source": [
    "### Indexing"
   ]
  },
  {
   "cell_type": "code",
   "execution_count": 17,
   "id": "b4799aa2-41c4-46d4-a2b8-de5e26d3666a",
   "metadata": {},
   "outputs": [
    {
     "data": {
      "text/plain": [
       "<tf.Tensor: shape=(2, 2), dtype=float32, numpy=\n",
       "array([[1., 2.],\n",
       "       [3., 4.]], dtype=float32)>"
      ]
     },
     "execution_count": 17,
     "metadata": {},
     "output_type": "execute_result"
    }
   ],
   "source": [
    "# Creatinga 2 x 2 matrix\n",
    "a = tf.constant([[1, 2], [3, 4]], dtype='float32')\n",
    "a"
   ]
  },
  {
   "cell_type": "code",
   "execution_count": 18,
   "id": "2140a305-bc48-43d4-8843-fdd40a6c26c0",
   "metadata": {},
   "outputs": [
    {
     "name": "stdout",
     "output_type": "stream",
     "text": [
      "tf.Tensor([1. 2.], shape=(2,), dtype=float32)\n",
      "\n",
      "tf.Tensor(2.0, shape=(), dtype=float32)\n"
     ]
    }
   ],
   "source": [
    "# What if we want extract some information from the matrix?\n",
    "# How we do it?\n",
    "# We can apply indexing to get desired information\n",
    "# Indexing\n",
    "print(a[0])\n",
    "print()\n",
    "print(a[0][1])"
   ]
  },
  {
   "cell_type": "markdown",
   "id": "e4f516b2-7c0d-42cc-ad86-e16ce30b64e2",
   "metadata": {},
   "source": [
    "Indexing using **tf.slice()** function."
   ]
  },
  {
   "cell_type": "code",
   "execution_count": 19,
   "id": "e9291461-0080-42e5-9da9-a8f9d8c60b7f",
   "metadata": {},
   "outputs": [
    {
     "name": "stdout",
     "output_type": "stream",
     "text": [
      "tf.Tensor([ 1 29 10], shape=(3,), dtype=int32)\n"
     ]
    }
   ],
   "source": [
    "c = tf.constant([44, 11, 0, 1, 29, 10, 99, 81])\n",
    "print(tf.slice(c, begin=[3], size=[3]))"
   ]
  },
  {
   "cell_type": "markdown",
   "id": "fa033b5b-ec43-40bf-8dfd-681796c0d95e",
   "metadata": {},
   "source": [
    "### Expanding a matrix\n",
    "\n",
    "Let us look at how to expand the dimension of a matrix"
   ]
  },
  {
   "cell_type": "code",
   "execution_count": 20,
   "id": "593a7051-16e6-4a6d-adb0-0fdc5ef775f1",
   "metadata": {},
   "outputs": [
    {
     "data": {
      "text/plain": [
       "<tf.Tensor: shape=(2, 2), dtype=float32, numpy=\n",
       "array([[1., 2.],\n",
       "       [3., 4.]], dtype=float32)>"
      ]
     },
     "execution_count": 20,
     "metadata": {},
     "output_type": "execute_result"
    }
   ],
   "source": [
    "a"
   ]
  },
  {
   "cell_type": "code",
   "execution_count": 21,
   "id": "03caa047-1597-493e-aeea-bf0df75f1288",
   "metadata": {},
   "outputs": [
    {
     "data": {
      "text/plain": [
       "<tf.Tensor: shape=(1, 2, 2), dtype=float32, numpy=\n",
       "array([[[1., 2.],\n",
       "        [3., 4.]]], dtype=float32)>"
      ]
     },
     "execution_count": 21,
     "metadata": {},
     "output_type": "execute_result"
    }
   ],
   "source": [
    "tf.expand_dims(a, axis=0)"
   ]
  },
  {
   "cell_type": "code",
   "execution_count": 22,
   "id": "b745060c-387f-4618-b48b-7c893fb8e44e",
   "metadata": {},
   "outputs": [
    {
     "data": {
      "text/plain": [
       "(TensorShape([1, 2, 2]), TensorShape([2, 1, 2]), TensorShape([2, 2, 1]))"
      ]
     },
     "execution_count": 22,
     "metadata": {},
     "output_type": "execute_result"
    }
   ],
   "source": [
    "(tf.expand_dims(a, axis=0)).shape, (tf.expand_dims(a, axis=1)).shape, (tf.expand_dims(a, axis=-1)).shape"
   ]
  },
  {
   "cell_type": "markdown",
   "id": "bd4ec60f-4449-4f6f-a927-2993278cd145",
   "metadata": {},
   "source": [
    "### Tensor aggregation"
   ]
  },
  {
   "cell_type": "code",
   "execution_count": 26,
   "id": "7385038e-1a10-4647-b54e-4eb91592476c",
   "metadata": {},
   "outputs": [
    {
     "data": {
      "text/plain": [
       "<tf.Tensor: shape=(50,), dtype=int32, numpy=\n",
       "array([18, 32,  4, 79, 58, 24, 90, 16, 84, 45, 11, 30, 35,  7, 41, 77, 23,\n",
       "       71, 56, 86, 74,  3, 76, 34, 40, 54, 25, 94, 15, 68,  8, 42, 43, 91,\n",
       "       72, 51, 20, 95, 50, 81, 70, 33, 10, 99, 53, 60, 67, 93, 12, 28])>"
      ]
     },
     "execution_count": 26,
     "metadata": {},
     "output_type": "execute_result"
    }
   ],
   "source": [
    "random.seed(22)\n",
    "a = random.sample(range(1, 100), 50)\n",
    "a = tf.constant(a)\n",
    "a"
   ]
  },
  {
   "cell_type": "markdown",
   "id": "0766ea1c-7e76-4ae5-8f1d-cce9cbe099bb",
   "metadata": {},
   "source": [
    "Let's say we want to find the smallest number in our tensor, maually read it would be difficult, what if out range of values was up a thousands or a millon?\n",
    "\n",
    "With TensorFlow we can find not just the minimum in one strike but we can also find the maximum value, the sum of all values, the mean, and much more."
   ]
  },
  {
   "cell_type": "code",
   "execution_count": 30,
   "id": "acc678e8-d2bf-4d33-b77b-d2c461317484",
   "metadata": {},
   "outputs": [
    {
     "name": "stdout",
     "output_type": "stream",
     "text": [
      "The smallest number in our vector is: 3\n",
      "The largest number in our vector is: 99\n",
      "The sum of our vector is: 2448\n",
      "The mean of our vector is: 48\n"
     ]
    }
   ],
   "source": [
    "print(f'The smallest number in our vector is: {tf.reduce_min(a).numpy()}')\n",
    "print(f'The largest number in our vector is: {tf.reduce_max(a)}')\n",
    "print(f'The sum of our vector is: {tf.reduce_sum(a)}')\n",
    "print(f'The mean of our vector is: {tf.reduce_mean(a)}')"
   ]
  },
  {
   "cell_type": "code",
   "execution_count": 31,
   "id": "21b02aaf-b66f-4e91-b404-81e93fd010ed",
   "metadata": {},
   "outputs": [
    {
     "name": "stdout",
     "output_type": "stream",
     "text": [
      "The position that holds the lowest value is: 21\n",
      "\n",
      "The position that holds the largest value is: 43\n"
     ]
    }
   ],
   "source": [
    "# What if we want to find the position that holds the minimum and maximum values in a vector?\n",
    "print(f'The position that holds the lowest value is: {tf.argmin(a)}')\n",
    "print()\n",
    "print(f'The position that holds the largest value is: {tf.argmax(a)}')"
   ]
  },
  {
   "cell_type": "code",
   "execution_count": 39,
   "id": "80c67788-ece7-4d82-bef4-c875c6796165",
   "metadata": {},
   "outputs": [
    {
     "data": {
      "text/plain": [
       "(3, 99)"
      ]
     },
     "execution_count": 39,
     "metadata": {},
     "output_type": "execute_result"
    }
   ],
   "source": [
    "a[21].numpy(), a[43].numpy()"
   ]
  },
  {
   "cell_type": "code",
   "execution_count": null,
   "id": "e131acbe-be4d-49a5-a039-beba24193a9a",
   "metadata": {},
   "outputs": [],
   "source": []
  }
 ],
 "metadata": {
  "kernelspec": {
   "display_name": "Python 3 (ipykernel)",
   "language": "python",
   "name": "python3"
  },
  "language_info": {
   "codemirror_mode": {
    "name": "ipython",
    "version": 3
   },
   "file_extension": ".py",
   "mimetype": "text/x-python",
   "name": "python",
   "nbconvert_exporter": "python",
   "pygments_lexer": "ipython3",
   "version": "3.9.12"
  }
 },
 "nbformat": 4,
 "nbformat_minor": 5
}
